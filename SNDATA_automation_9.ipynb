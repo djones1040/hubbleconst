{
 "cells": [
  {
   "cell_type": "code",
   "execution_count": 1,
   "metadata": {},
   "outputs": [],
   "source": [
    "# preliminaries\n",
    "import numpy as np\n",
    "import os\n",
    "import matplotlib.pyplot as plt\n",
    "import sys  \n",
    "sys.path.insert(0, r'C:\\Users\\payto\\hubbleconst')\n",
    "%matplotlib inline\n",
    "\n",
    "import sncosmo # we'll use this to get SN distances\n",
    "import snana # we'll use this to read supernova light curve files\n",
    "from astropy.io import fits\n",
    "import astropy.units as u\n",
    "from astropy.table import Table\n",
    "import gzip\n",
    "import warnings\n",
    "import get_vpec\n",
    "import LC_CLASS\n",
    "# let's get ready to measure distances relative to\n",
    "# a cosmological model with H0=70, cosmic matter = 0.3\n",
    "from astropy.cosmology import FlatLambdaCDM\n",
    "cosmo = FlatLambdaCDM(70,0.3)"
   ]
  },
  {
   "cell_type": "code",
   "execution_count": 2,
   "metadata": {},
   "outputs": [],
   "source": [
    "from os import listdir\n",
    "from os.path import isfile, join\n",
    "path = 'SNDATA_ROOT/research_payto/'\n",
    "fileslist = [f for f in listdir(path) if isfile(join(path, f))]"
   ]
  },
  {
   "cell_type": "code",
   "execution_count": 3,
   "metadata": {},
   "outputs": [
    {
     "data": {
      "text/plain": [
       "['1997bp.dat.gz',\n",
       " '1999cp.dat.gz',\n",
       " '1999dq.dat.gz',\n",
       " '2002dp.dat.gz',\n",
       " 'CFA3_4SHOOTER2_2002cr.DAT',\n",
       " 'CFA4_p1_2009Y.dat',\n",
       " 'CFA4_p2_2009le.dat.gz',\n",
       " 'CSPDR2_2006bh.dat.gz',\n",
       " 'CSPDR2_2006D.dat',\n",
       " 'Foundation_DR1_spec_PSNJ2043531.txt.gz']"
      ]
     },
     "execution_count": 3,
     "metadata": {},
     "output_type": "execute_result"
    }
   ],
   "source": [
    "fileslist"
   ]
  },
  {
   "cell_type": "code",
   "execution_count": 13,
   "metadata": {},
   "outputs": [
    {
     "name": "stdout",
     "output_type": "stream",
     "text": [
      "SNDATA_ROOT/research_payto/CFA3_4SHOOTER2_2002cr.DAT\n"
     ]
    }
   ],
   "source": [
    "sns = []\n",
    "for path in [fileslist[4]]:\n",
    "    file = os.path.expandvars('SNDATA_ROOT/research_payto/'+ path)\n",
    "    print(file)\n",
    "    sn_ = snana.SuperNova(file)\n",
    "    sns.append(sn_)\n",
    "    \n",
    "    #file = open('research/' + path).readlines\n",
    "    #novae = os.path.expandvars(file()[0])\n",
    "    #novae_data = novae.data"
   ]
  },
  {
   "cell_type": "code",
   "execution_count": 8,
   "metadata": {
    "scrolled": false
   },
   "outputs": [],
   "source": [
    "#for i in range(len(sns)):\n",
    "    #print(sns[i].FLUXCAL,sns[i].FLT)\n",
    "#for flux,flt in zip(sn.FLUXCAL,sn.FLT):\n",
    "    #print(flux,flt)\n",
    "#for j,f in enumerate(sn.FLUXCAL):\n",
    "    #print(sn.FLT[j],flux)"
   ]
  },
  {
   "cell_type": "code",
   "execution_count": 6,
   "metadata": {},
   "outputs": [
    {
     "name": "stdout",
     "output_type": "stream",
     "text": [
      "datfile C:\\Users\\payto\\SNDATA_ROOT\\research_payto\\1997bp.dat.gz\n",
      "SURVEY CFA2\n",
      "SNID 1997bp\n",
      "IAUC UNKNOWN\n",
      "RA 191.72396\n",
      "DEC -11.64256\n",
      "MWEBV 0.038 # MW E(B-V)\n",
      "REDSHIFT_HELIO 0.00831 +- 0.00100\n",
      "REDSHIFT_CMB 0.00944 +- 0.00114\n",
      "VPEC 217.473\n",
      "VPEC_ERR 250.0\n",
      "REDSHIFT_Status warning: redshift err fudged\n",
      "SEARCH_PEAKMJD 50549.969\n",
      "FILTERS UBVRI\n",
      "MJD [50546.29 50547.3  50548.29 50549.3  50550.26 50552.32 50567.27 50569.21\n",
      " 50573.29 50575.23 50579.24 50597.23 50610.19 50546.29 50547.3  50548.29\n",
      " 50549.3  50550.26 50552.32 50567.27 50569.21 50573.29 50575.23 50579.24\n",
      " 50597.23 50610.19 50546.29 50547.3  50548.29 50549.3  50550.26 50552.32\n",
      " 50567.27 50569.21 50573.29 50575.23 50579.24 50597.23 50610.19 50546.29\n",
      " 50547.3  50548.29 50549.3  50550.26 50552.32 50567.27 50569.21 50573.29\n",
      " 50575.23 50579.24 50597.23 50610.19 50546.29 50547.3  50548.29 50549.3\n",
      " 50550.26 50552.32 50567.27 50569.21 50573.29 50575.23 50579.24 50597.23\n",
      " 50610.19]\n",
      "FLT ['Bessell-B/B' 'Bessell-B/B' 'Bessell-B/B' 'Bessell-B/B' 'Bessell-B/B'\n",
      " 'Bessell-B/B' 'Bessell-B/B' 'Bessell-B/B' 'Bessell-B/B' 'Bessell-B/B'\n",
      " 'Bessell-B/B' 'Bessell-B/B' 'Bessell-B/B' 'Bessell-I/I' 'Bessell-I/I'\n",
      " 'Bessell-I/I' 'Bessell-I/I' 'Bessell-I/I' 'Bessell-I/I' 'Bessell-I/I'\n",
      " 'Bessell-I/I' 'Bessell-I/I' 'Bessell-I/I' 'Bessell-I/I' 'Bessell-I/I'\n",
      " 'Bessell-I/I' 'Bessell-R/R' 'Bessell-R/R' 'Bessell-R/R' 'Bessell-R/R'\n",
      " 'Bessell-R/R' 'Bessell-R/R' 'Bessell-R/R' 'Bessell-R/R' 'Bessell-R/R'\n",
      " 'Bessell-R/R' 'Bessell-R/R' 'Bessell-R/R' 'Bessell-R/R' 'Bessell-U/U'\n",
      " 'Bessell-U/U' 'Bessell-U/U' 'Bessell-U/U' 'Bessell-U/U' 'Bessell-U/U'\n",
      " 'Bessell-U/U' 'Bessell-U/U' 'Bessell-U/U' 'Bessell-U/U' 'Bessell-U/U'\n",
      " 'Bessell-U/U' 'Bessell-U/U' 'Bessell-V/V' 'Bessell-V/V' 'Bessell-V/V'\n",
      " 'Bessell-V/V' 'Bessell-V/V' 'Bessell-V/V' 'Bessell-V/V' 'Bessell-V/V'\n",
      " 'Bessell-V/V' 'Bessell-V/V' 'Bessell-V/V' 'Bessell-V/V' 'Bessell-V/V']\n",
      "FIELD ['VOID' 'VOID' 'VOID' 'VOID' 'VOID' 'VOID' 'VOID' 'VOID' 'VOID' 'VOID'\n",
      " 'VOID' 'VOID' 'VOID' 'VOID' 'VOID' 'VOID' 'VOID' 'VOID' 'VOID' 'VOID'\n",
      " 'VOID' 'VOID' 'VOID' 'VOID' 'VOID' 'VOID' 'VOID' 'VOID' 'VOID' 'VOID'\n",
      " 'VOID' 'VOID' 'VOID' 'VOID' 'VOID' 'VOID' 'VOID' 'VOID' 'VOID' 'VOID'\n",
      " 'VOID' 'VOID' 'VOID' 'VOID' 'VOID' 'VOID' 'VOID' 'VOID' 'VOID' 'VOID'\n",
      " 'VOID' 'VOID' 'VOID' 'VOID' 'VOID' 'VOID' 'VOID' 'VOID' 'VOID' 'VOID'\n",
      " 'VOID' 'VOID' 'VOID' 'VOID' 'VOID']\n",
      "FLUXCAL [224491.4844 229720.5701 232273.615  227195.5821 224078.3422 213009.9413\n",
      "  53456.4213  45040.1551  33113.1027  29895.0906  21777.0916  14216.7355\n",
      "  12870.6322 219988.593  222228.7209 228034.3032 225112.7927 218776.2552\n",
      " 214981.0515 149417.0515 155167.287  171870.0368 179308.2039 171080.3725\n",
      "  64150.5191  37739.8508 270146.9734 276949.1991 291608.4535 298675.8521\n",
      " 304228.6451 312752.0075 159367.6268 160990.4498 164285.8331 162181.0503\n",
      " 137404.2274  60813.515   38904.524  233991.4892 233560.8487 226986.514\n",
      " 213796.2332 203423.0015 183653.8575  43092.3383  35842.645   25258.0633\n",
      "  21105.7152  16099.0429   8068.6348   7184.558  247058.5731 255858.5511\n",
      " 266931.5653 274915.9517 280801.8271 281838.2465 145344.9465 138292.9142\n",
      " 117814.8198 110662.3616  88307.9761  41228.7278  30647.8439]\n",
      "FLUXCALERR [ 6843.6292  7032.2861  6875.2777  7018.635   6919.3498  7024.1851\n",
      "  6432.7301  6412.4891  6388.5393  6391.4061  6386.1165  6381.4883\n",
      "  6382.4532  2228.7044  2865.417   2310.2155  2695.2754  3626.8726\n",
      "  2573.9681  3302.7146  2000.727   1582.9231  1981.7144  2363.4752\n",
      "   708.9915   625.6512 18313.9563 18842.6085 19098.1319 19639.4237\n",
      " 19664.5747 19436.8694 10272.4098 10023.5878  9399.6561  9251.7241\n",
      "  8163.7902  3698.2171  1392.3782  8566.8414  8945.2761  8357.0556\n",
      "  8141.0871  7496.303   7235.8638  3945.7102  3829.4115  3730.028\n",
      "  3707.6825  3692.8744  3642.1016  3638.9693  6484.9711  6634.4349\n",
      "  6517.6231  6686.6075  6618.0386  6706.379   6427.2681  6440.5574\n",
      "  6332.0429  6338.9793  6338.7166  6295.6041  6297.0223]\n",
      "END_PHOTOMETRY \n",
      "NSPECTRA 12\n",
      "NVAR_SPEC 5\n",
      "VARNAMES_SPEC LAMMIN LAMMAX  FLAM  FLAMERR SPECFLAG\n",
      "SPECTRUM_ID 12\n",
      "SPECTRUM_MJD 50598.18\n",
      "SPECTRUM_NLAM 1866\n",
      "SPEC 7512.93   7514.95 3.43694e-01 5.84954e-03 1\n",
      "SPECTRUM_END \n"
     ]
    }
   ],
   "source": [
    "for key in sns[0].__dict__.keys():\n",
    "    print(key,getattr(sns[0],key))"
   ]
  },
  {
   "cell_type": "code",
   "execution_count": 14,
   "metadata": {
    "scrolled": false
   },
   "outputs": [
    {
     "name": "stdout",
     "output_type": "stream",
     "text": [
      "PS1_LOWZ_COMBINED(CFA3S) ['wavelength (A)', 'CFA3S-U/a', 'CFA3S-B/b', 'CFA3S-V/c', 'CFA3S-R/d', 'CFA3S-I/e', 'CFA41-U/f', 'CFA41-B/g', 'CFA41-V/h', 'CFA41-r/i', 'CFA41-i/j', 'CFA41-U/k', 'CFA41-B/l', 'CFA41-V/m', 'CFA41-r/n', 'CFA41-i/o', 'CFA42-B/p', 'CFA42-V/q', 'CFA42-r/r', 'CFA42-i/s', 'CSP-u/t', 'CSP-B/u', 'CSP-o/v', 'CSP-m/w', 'CSP-n/x', 'CSP-g/y', 'CSP-r/z', 'CSP-i/A', 'Bessell-U/B', 'Bessell-B/C', 'Bessell-V/D', 'Bessell-R/E', 'Bessell-I/F', 'Bessell-U/G', 'Bessell-B/H', 'Bessell-V/I', 'Bessell-R/J', 'Bessell-I/K', '*CFA3S-U/a', '*CFA3S-B/b', '*CFA3S-V/c', '*CFA3S-R/d', '*CFA3S-I/e', '*CFA41-U/f', '*CFA41-B/g', '*CFA41-V/h', '*CFA41-r/i', '*CFA41-i/j', '*CFA41-U/k', '*CFA41-B/l', '*CFA41-V/m', '*CFA41-r/n', '*CFA41-i/o', '*CFA42-B/p', '*CFA42-V/q', '*CFA42-r/r', '*CFA42-i/s', '*CSP-u/t', '*CSP-B/u', '*CSP-o/v', '*CSP-m/w', '*CSP-n/x', '*CSP-g/y', '*CSP-r/z', '*CSP-i/A', '*Bessell-U/B', '*Bessell-B/C', '*Bessell-V/D', '*Bessell-R/E', '*Bessell-I/F', '*Bessell-U/G', '*Bessell-B/H', '*Bessell-V/I', '*Bessell-R/J', '*Bessell-I/K']\n"
     ]
    },
    {
     "ename": "KeyError",
     "evalue": "\"Key 'a' does not exist.\"",
     "output_type": "error",
     "traceback": [
      "\u001b[1;31m---------------------------------------------------------------------------\u001b[0m",
      "\u001b[1;31mValueError\u001b[0m                                Traceback (most recent call last)",
      "\u001b[1;32m~\\anaconda3\\lib\\site-packages\\astropy\\io\\fits\\column.py\u001b[0m in \u001b[0;36m_get_index\u001b[1;34m(names, key)\u001b[0m\n\u001b[0;32m   2031\u001b[0m         \u001b[1;32mtry\u001b[0m\u001b[1;33m:\u001b[0m\u001b[1;33m\u001b[0m\u001b[1;33m\u001b[0m\u001b[0m\n\u001b[1;32m-> 2032\u001b[1;33m             \u001b[0mindx\u001b[0m \u001b[1;33m=\u001b[0m \u001b[0mnames\u001b[0m\u001b[1;33m.\u001b[0m\u001b[0mindex\u001b[0m\u001b[1;33m(\u001b[0m\u001b[0mkey\u001b[0m\u001b[1;33m.\u001b[0m\u001b[0mrstrip\u001b[0m\u001b[1;33m(\u001b[0m\u001b[1;33m)\u001b[0m\u001b[1;33m)\u001b[0m\u001b[1;33m\u001b[0m\u001b[1;33m\u001b[0m\u001b[0m\n\u001b[0m\u001b[0;32m   2033\u001b[0m         \u001b[1;32mexcept\u001b[0m \u001b[0mValueError\u001b[0m\u001b[1;33m:\u001b[0m\u001b[1;33m\u001b[0m\u001b[1;33m\u001b[0m\u001b[0m\n",
      "\u001b[1;31mValueError\u001b[0m: 'a' is not in list",
      "\nDuring handling of the above exception, another exception occurred:\n",
      "\u001b[1;31mKeyError\u001b[0m                                  Traceback (most recent call last)",
      "\u001b[1;32m<ipython-input-14-cfa1e8b0f703>\u001b[0m in \u001b[0;36m<module>\u001b[1;34m\u001b[0m\n\u001b[0;32m     45\u001b[0m     \u001b[0mres\u001b[0m \u001b[1;33m=\u001b[0m \u001b[0mLC_CLASS\u001b[0m\u001b[1;33m.\u001b[0m\u001b[0msalt3_lc_fit\u001b[0m\u001b[1;33m(\u001b[0m\u001b[0mflc\u001b[0m\u001b[1;33m,\u001b[0m \u001b[0msn\u001b[0m\u001b[1;33m.\u001b[0m\u001b[0mdatfile\u001b[0m\u001b[1;33m,\u001b[0m \u001b[0mkcordict\u001b[0m\u001b[1;33m[\u001b[0m\u001b[0mSURVEY_KEY\u001b[0m\u001b[1;33m]\u001b[0m\u001b[1;33m)\u001b[0m\u001b[1;33m\u001b[0m\u001b[1;33m\u001b[0m\u001b[0m\n\u001b[0;32m     46\u001b[0m \u001b[1;32mfor\u001b[0m \u001b[0msn\u001b[0m \u001b[1;32min\u001b[0m \u001b[0msns\u001b[0m\u001b[1;33m:\u001b[0m\u001b[1;33m\u001b[0m\u001b[1;33m\u001b[0m\u001b[0m\n\u001b[1;32m---> 47\u001b[1;33m     \u001b[0mprocedure\u001b[0m\u001b[1;33m(\u001b[0m\u001b[0msn\u001b[0m\u001b[1;33m)\u001b[0m\u001b[1;33m\u001b[0m\u001b[1;33m\u001b[0m\u001b[0m\n\u001b[0m",
      "\u001b[1;32m<ipython-input-14-cfa1e8b0f703>\u001b[0m in \u001b[0;36mprocedure\u001b[1;34m(sn)\u001b[0m\n\u001b[0;32m     33\u001b[0m \u001b[1;33m\u001b[0m\u001b[0m\n\u001b[0;32m     34\u001b[0m         \u001b[1;31m# compute the effective wavelength so we know the \"color\" of each filter\u001b[0m\u001b[1;33m\u001b[0m\u001b[1;33m\u001b[0m\u001b[1;33m\u001b[0m\u001b[0m\n\u001b[1;32m---> 35\u001b[1;33m         \u001b[0mlameff\u001b[0m \u001b[1;33m=\u001b[0m \u001b[0mnp\u001b[0m\u001b[1;33m.\u001b[0m\u001b[0msum\u001b[0m\u001b[1;33m(\u001b[0m\u001b[0mkcor\u001b[0m\u001b[1;33m[\u001b[0m\u001b[1;36m5\u001b[0m\u001b[1;33m]\u001b[0m\u001b[1;33m.\u001b[0m\u001b[0mdata\u001b[0m\u001b[1;33m[\u001b[0m\u001b[0mfilt\u001b[0m\u001b[1;33m]\u001b[0m\u001b[1;33m*\u001b[0m\u001b[0mkcor\u001b[0m\u001b[1;33m[\u001b[0m\u001b[1;36m5\u001b[0m\u001b[1;33m]\u001b[0m\u001b[1;33m.\u001b[0m\u001b[0mdata\u001b[0m\u001b[1;33m[\u001b[0m\u001b[1;34m'wavelength (A)'\u001b[0m\u001b[1;33m]\u001b[0m\u001b[1;33m)\u001b[0m\u001b[1;33m/\u001b[0m\u001b[0mkcor\u001b[0m\u001b[1;33m[\u001b[0m\u001b[1;36m5\u001b[0m\u001b[1;33m]\u001b[0m\u001b[1;33m.\u001b[0m\u001b[0mdata\u001b[0m\u001b[1;33m[\u001b[0m\u001b[0mfilt\u001b[0m\u001b[1;33m]\u001b[0m\u001b[1;33m.\u001b[0m\u001b[0msum\u001b[0m\u001b[1;33m(\u001b[0m\u001b[1;33m)\u001b[0m\u001b[1;33m\u001b[0m\u001b[1;33m\u001b[0m\u001b[0m\n\u001b[0m\u001b[0;32m     36\u001b[0m         \u001b[1;31m# using ax.text instead of title makes the spacing better\u001b[0m\u001b[1;33m\u001b[0m\u001b[1;33m\u001b[0m\u001b[1;33m\u001b[0m\u001b[0m\n\u001b[0;32m     37\u001b[0m         \u001b[0max\u001b[0m\u001b[1;33m.\u001b[0m\u001b[0mtext\u001b[0m\u001b[1;33m(\u001b[0m\u001b[1;36m0.05\u001b[0m\u001b[1;33m,\u001b[0m\u001b[1;36m0.25\u001b[0m\u001b[1;33m,\u001b[0m\u001b[1;34mf\"{filt} ($\\lambda_{{eff}} = {lameff:.0f} \\AA$)\"\u001b[0m\u001b[1;33m,\u001b[0m\u001b[0mha\u001b[0m\u001b[1;33m=\u001b[0m\u001b[1;34m'left'\u001b[0m\u001b[1;33m,\u001b[0m\u001b[0mva\u001b[0m\u001b[1;33m=\u001b[0m\u001b[1;34m'center'\u001b[0m\u001b[1;33m,\u001b[0m\u001b[0mtransform\u001b[0m\u001b[1;33m=\u001b[0m\u001b[0max\u001b[0m\u001b[1;33m.\u001b[0m\u001b[0mtransAxes\u001b[0m\u001b[1;33m,\u001b[0m\u001b[0mbbox\u001b[0m\u001b[1;33m=\u001b[0m\u001b[1;33m{\u001b[0m\u001b[1;34m'facecolor'\u001b[0m\u001b[1;33m:\u001b[0m\u001b[1;34m'1.0'\u001b[0m\u001b[1;33m,\u001b[0m\u001b[1;34m'edgecolor'\u001b[0m\u001b[1;33m:\u001b[0m\u001b[1;34m'1.0'\u001b[0m\u001b[1;33m}\u001b[0m\u001b[1;33m)\u001b[0m\u001b[1;33m\u001b[0m\u001b[1;33m\u001b[0m\u001b[0m\n",
      "\u001b[1;32m~\\anaconda3\\lib\\site-packages\\astropy\\io\\fits\\fitsrec.py\u001b[0m in \u001b[0;36m__getitem__\u001b[1;34m(self, key)\u001b[0m\n\u001b[0;32m    505\u001b[0m \u001b[1;33m\u001b[0m\u001b[0m\n\u001b[0;32m    506\u001b[0m         \u001b[1;32mif\u001b[0m \u001b[0misinstance\u001b[0m\u001b[1;33m(\u001b[0m\u001b[0mkey\u001b[0m\u001b[1;33m,\u001b[0m \u001b[0mstr\u001b[0m\u001b[1;33m)\u001b[0m\u001b[1;33m:\u001b[0m\u001b[1;33m\u001b[0m\u001b[1;33m\u001b[0m\u001b[0m\n\u001b[1;32m--> 507\u001b[1;33m             \u001b[1;32mreturn\u001b[0m \u001b[0mself\u001b[0m\u001b[1;33m.\u001b[0m\u001b[0mfield\u001b[0m\u001b[1;33m(\u001b[0m\u001b[0mkey\u001b[0m\u001b[1;33m)\u001b[0m\u001b[1;33m\u001b[0m\u001b[1;33m\u001b[0m\u001b[0m\n\u001b[0m\u001b[0;32m    508\u001b[0m \u001b[1;33m\u001b[0m\u001b[0m\n\u001b[0;32m    509\u001b[0m         \u001b[1;31m# Have to view as a recarray then back as a FITS_rec, otherwise the\u001b[0m\u001b[1;33m\u001b[0m\u001b[1;33m\u001b[0m\u001b[1;33m\u001b[0m\u001b[0m\n",
      "\u001b[1;32m~\\anaconda3\\lib\\site-packages\\astropy\\io\\fits\\fitsrec.py\u001b[0m in \u001b[0;36mfield\u001b[1;34m(self, key)\u001b[0m\n\u001b[0;32m    692\u001b[0m         \u001b[1;31m# NOTE: The *column* index may not be the same as the field index in\u001b[0m\u001b[1;33m\u001b[0m\u001b[1;33m\u001b[0m\u001b[1;33m\u001b[0m\u001b[0m\n\u001b[0;32m    693\u001b[0m         \u001b[1;31m# the recarray, if the column is a phantom column\u001b[0m\u001b[1;33m\u001b[0m\u001b[1;33m\u001b[0m\u001b[1;33m\u001b[0m\u001b[0m\n\u001b[1;32m--> 694\u001b[1;33m         \u001b[0mcolumn\u001b[0m \u001b[1;33m=\u001b[0m \u001b[0mself\u001b[0m\u001b[1;33m.\u001b[0m\u001b[0mcolumns\u001b[0m\u001b[1;33m[\u001b[0m\u001b[0mkey\u001b[0m\u001b[1;33m]\u001b[0m\u001b[1;33m\u001b[0m\u001b[1;33m\u001b[0m\u001b[0m\n\u001b[0m\u001b[0;32m    695\u001b[0m         \u001b[0mname\u001b[0m \u001b[1;33m=\u001b[0m \u001b[0mcolumn\u001b[0m\u001b[1;33m.\u001b[0m\u001b[0mname\u001b[0m\u001b[1;33m\u001b[0m\u001b[1;33m\u001b[0m\u001b[0m\n\u001b[0;32m    696\u001b[0m         \u001b[0mformat\u001b[0m \u001b[1;33m=\u001b[0m \u001b[0mcolumn\u001b[0m\u001b[1;33m.\u001b[0m\u001b[0mformat\u001b[0m\u001b[1;33m\u001b[0m\u001b[1;33m\u001b[0m\u001b[0m\n",
      "\u001b[1;32m~\\anaconda3\\lib\\site-packages\\astropy\\io\\fits\\column.py\u001b[0m in \u001b[0;36m__getitem__\u001b[1;34m(self, key)\u001b[0m\n\u001b[0;32m   1637\u001b[0m     \u001b[1;32mdef\u001b[0m \u001b[0m__getitem__\u001b[0m\u001b[1;33m(\u001b[0m\u001b[0mself\u001b[0m\u001b[1;33m,\u001b[0m \u001b[0mkey\u001b[0m\u001b[1;33m)\u001b[0m\u001b[1;33m:\u001b[0m\u001b[1;33m\u001b[0m\u001b[1;33m\u001b[0m\u001b[0m\n\u001b[0;32m   1638\u001b[0m         \u001b[1;32mif\u001b[0m \u001b[0misinstance\u001b[0m\u001b[1;33m(\u001b[0m\u001b[0mkey\u001b[0m\u001b[1;33m,\u001b[0m \u001b[0mstr\u001b[0m\u001b[1;33m)\u001b[0m\u001b[1;33m:\u001b[0m\u001b[1;33m\u001b[0m\u001b[1;33m\u001b[0m\u001b[0m\n\u001b[1;32m-> 1639\u001b[1;33m             \u001b[0mkey\u001b[0m \u001b[1;33m=\u001b[0m \u001b[0m_get_index\u001b[0m\u001b[1;33m(\u001b[0m\u001b[0mself\u001b[0m\u001b[1;33m.\u001b[0m\u001b[0mnames\u001b[0m\u001b[1;33m,\u001b[0m \u001b[0mkey\u001b[0m\u001b[1;33m)\u001b[0m\u001b[1;33m\u001b[0m\u001b[1;33m\u001b[0m\u001b[0m\n\u001b[0m\u001b[0;32m   1640\u001b[0m \u001b[1;33m\u001b[0m\u001b[0m\n\u001b[0;32m   1641\u001b[0m         \u001b[0mx\u001b[0m \u001b[1;33m=\u001b[0m \u001b[0mself\u001b[0m\u001b[1;33m.\u001b[0m\u001b[0mcolumns\u001b[0m\u001b[1;33m[\u001b[0m\u001b[0mkey\u001b[0m\u001b[1;33m]\u001b[0m\u001b[1;33m\u001b[0m\u001b[1;33m\u001b[0m\u001b[0m\n",
      "\u001b[1;32m~\\anaconda3\\lib\\site-packages\\astropy\\io\\fits\\column.py\u001b[0m in \u001b[0;36m_get_index\u001b[1;34m(names, key)\u001b[0m\n\u001b[0;32m   2039\u001b[0m                 \u001b[0mindx\u001b[0m \u001b[1;33m=\u001b[0m \u001b[0mnames\u001b[0m\u001b[1;33m.\u001b[0m\u001b[0mindex\u001b[0m\u001b[1;33m(\u001b[0m\u001b[0m_key\u001b[0m\u001b[1;33m)\u001b[0m\u001b[1;33m\u001b[0m\u001b[1;33m\u001b[0m\u001b[0m\n\u001b[0;32m   2040\u001b[0m             \u001b[1;32melif\u001b[0m \u001b[0mcount\u001b[0m \u001b[1;33m==\u001b[0m \u001b[1;36m0\u001b[0m\u001b[1;33m:\u001b[0m\u001b[1;33m\u001b[0m\u001b[1;33m\u001b[0m\u001b[0m\n\u001b[1;32m-> 2041\u001b[1;33m                 \u001b[1;32mraise\u001b[0m \u001b[0mKeyError\u001b[0m\u001b[1;33m(\u001b[0m\u001b[1;34mf\"Key '{key}' does not exist.\"\u001b[0m\u001b[1;33m)\u001b[0m\u001b[1;33m\u001b[0m\u001b[1;33m\u001b[0m\u001b[0m\n\u001b[0m\u001b[0;32m   2042\u001b[0m             \u001b[1;32melse\u001b[0m\u001b[1;33m:\u001b[0m              \u001b[1;31m# multiple match\u001b[0m\u001b[1;33m\u001b[0m\u001b[1;33m\u001b[0m\u001b[0m\n\u001b[0;32m   2043\u001b[0m                 \u001b[1;32mraise\u001b[0m \u001b[0mKeyError\u001b[0m\u001b[1;33m(\u001b[0m\u001b[1;34mf\"Ambiguous key name '{key}'.\"\u001b[0m\u001b[1;33m)\u001b[0m\u001b[1;33m\u001b[0m\u001b[1;33m\u001b[0m\u001b[0m\n",
      "\u001b[1;31mKeyError\u001b[0m: \"Key 'a' does not exist.\""
     ]
    },
    {
     "data": {
      "image/png": "[encoded data removed]",
      "text/plain": [
       "<Figure size 288x864 with 1 Axes>"
      ]
     },
     "metadata": {
      "needs_background": "light"
     },
     "output_type": "display_data"
    }
   ],
   "source": [
    "# dictionary mapping survey names to kcor files\n",
    "def procedure(sn): \n",
    "    kcordict = {'CFA4p1':os.path.expandvars('$SNDATA_ROOT/kcor/PS1/Pantheon/kcor_PS1_LOWZ_COMBINED.fits.gz'),\n",
    "                'CFA4p2':os.path.expandvars('$SNDATA_ROOT/kcor/PS1/Pantheon/kcor_PS1_LOWZ_COMBINED.fits.gz'),\n",
    "                'CSP':os.path.expandvars('$SNDATA_ROOT/kcor/CSP/CSPDR3/kcor_CSPDR3_BD17.fits.gz'),\n",
    "                'CFA2':os.path.expandvars('$SNDATA_ROOT/kcor/SALT3TRAIN_K21/kcor_Jha2006.fits'),\n",
    "                'LOWZ':os.path.expandvars('$SNDATA_ROOT/kcor/SALT3TRAIN_K21/kcor_Jha2006.fits'),\n",
    "                'PS1_LOWZ_COMBINED':os.path.expandvars('$SNDATA_ROOT/kcor/PS1/Pantheon/kcor_PS1_LOWZ_COMBINED.fits'),\n",
    "                'FOUNDATION':os.path.expandvars('$SNDATA_ROOT/kcor/SALT3TRAIN_K21/kcor_Foundation_DR1.fits'),\n",
    "                'CFA3':os.path.expandvars('$SNDATA_ROOT/kcor/SALT3TRAIN_K21/kcor_Hicken2009.fits'),\n",
    "                'CFA3_4SHOOTER':os.path.expandvars('$SNDATA_ROOT/kcor/CFA/CFA3/kcor_CFA3_4SHOOTER_BD17.fits')}\n",
    "    SURVEY_KEY = sn.SURVEY.split('(')[0]\n",
    "    if SURVEY_KEY not in kcordict:\n",
    "        print(f'COULD NOT FIND {sn.SURVEY} IN kcordict USING KEY {SURVEY_KEY}')\n",
    "        return\n",
    "    kcorfile = kcordict[SURVEY_KEY]\n",
    "    kcor = fits.open(kcorfile)\n",
    "    #for i,k in enumerate(kcor):\n",
    "        #if i==0:\n",
    "            #continue\n",
    "        #print(k.data.names)\n",
    "    print(sn.SURVEY,kcor[5].data.names)\n",
    "        # cosmetic things\n",
    "    plt.rcParams['figure.figsize'] = (4,12)\n",
    "    plt.subplots_adjust(hspace=0.1)\n",
    "\n",
    "    # plot the SN \"light curve\" for each band\n",
    "    for i,filt in enumerate(np.unique(sn.FLT)):\n",
    "        # subplot for each filter\n",
    "        ax = plt.subplot(f\"{len(np.unique(sn.FLT))}1{i+1}\")\n",
    "\n",
    "        # fluxes and errors\n",
    "        ax.errorbar(sn.MJD[sn.FLT == filt],sn.FLUXCAL[sn.FLT == filt],yerr=sn.FLUXCALERR[sn.FLT == filt],fmt='o')\n",
    "\n",
    "        # compute the effective wavelength so we know the \"color\" of each filter\n",
    "        lameff = np.sum(kcor[5].data[filt]*kcor[5].data['wavelength (A)'])/kcor[5].data[filt].sum()\n",
    "        # using ax.text instead of title makes the spacing better\n",
    "        ax.text(0.05,0.25,f\"{filt} ($\\lambda_{{eff}} = {lameff:.0f} \\AA$)\",ha='left',va='center',transform=ax.transAxes,bbox={'facecolor':'1.0','edgecolor':'1.0'})\n",
    "\n",
    "        # cosmetic stuff\n",
    "        ax.set_xlabel('MJD')\n",
    "        ax.set_ylabel('flux')\n",
    "        ax.set_yticks([]) # absolute flux doesn't matter for now\n",
    "    plt.show()\n",
    "    flc=LC_CLASS.LC()\n",
    "    res = LC_CLASS.salt3_lc_fit(flc, sn.datfile, kcordict[SURVEY_KEY])\n",
    "for sn in sns:\n",
    "    procedure(sn)"
   ]
  },
  {
   "cell_type": "code",
   "execution_count": null,
   "metadata": {},
   "outputs": [],
   "source": []
  },
  {
   "cell_type": "code",
   "execution_count": null,
   "metadata": {},
   "outputs": [],
   "source": []
  },
  {
   "cell_type": "code",
   "execution_count": null,
   "metadata": {},
   "outputs": [],
   "source": []
  }
 ],
 "metadata": {
  "kernelspec": {
   "display_name": "Python 3",
   "language": "python",
   "name": "python3"
  },
  "language_info": {
   "codemirror_mode": {
    "name": "ipython",
    "version": 3
   },
   "file_extension": ".py",
   "mimetype": "text/x-python",
   "name": "python",
   "nbconvert_exporter": "python",
   "pygments_lexer": "ipython3",
   "version": "3.8.3"
  }
 },
 "nbformat": 4,
 "nbformat_minor": 4
}
